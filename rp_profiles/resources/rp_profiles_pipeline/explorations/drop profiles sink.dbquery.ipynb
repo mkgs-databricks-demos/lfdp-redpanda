{
 "cells": [
  {
   "cell_type": "code",
   "execution_count": 0,
   "metadata": {
    "application/vnd.databricks.v1+cell": {
     "cellMetadata": {
      "byteLimit": 10485760,
      "rowLimit": 1000
     },
     "inputWidgets": {},
     "nuid": "75342e07-fcfb-49b6-827a-e1738b81cb4f",
     "showTitle": false,
     "tableResultSettingsMap": {},
     "title": ""
    }
   },
   "outputs": [],
   "source": [
    "use redpanda_dev.dev_matthew_giglia_kafka_delta_sinks;\n",
    "show tables;\n",
    "\n",
    "-- drop table profiles_sink;"
   ]
  }
 ],
 "metadata": {
  "application/vnd.databricks.v1+notebook": {
   "computePreferences": null,
   "dashboards": [],
   "environmentMetadata": null,
   "inputWidgetPreferences": null,
   "language": "sql",
   "notebookMetadata": {
    "pythonIndentUnit": 4,
    "sqlQueryOptions": {
     "applyAutoLimit": true,
     "catalog": "redpanda_dev",
     "schema": "dev_matthew_giglia_profiles"
    }
   },
   "notebookName": "drop profiles sink.dbquery.ipynb",
   "widgets": {}
  },
  "language_info": {
   "name": "sql"
  }
 },
 "nbformat": 4,
 "nbformat_minor": 0
}
