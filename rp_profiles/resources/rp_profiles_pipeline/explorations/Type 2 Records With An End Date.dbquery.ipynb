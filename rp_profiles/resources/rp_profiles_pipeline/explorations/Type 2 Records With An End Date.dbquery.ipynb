{
 "cells": [
  {
   "cell_type": "code",
   "execution_count": 0,
   "metadata": {
    "application/vnd.databricks.v1+cell": {
     "cellMetadata": {
      "byteLimit": 10485760,
      "rowLimit": 1000
     },
     "inputWidgets": {},
     "nuid": "c5d07c11-dd38-46d5-a97a-868bea9d7566",
     "showTitle": false,
     "tableResultSettingsMap": {},
     "title": ""
    }
   },
   "outputs": [],
   "source": [
    "use redpanda_dev.dev_matthew_giglia_profiles;\n",
    "\n",
    "-- show commit totals \n",
    "FROM profile_commits;\n",
    "\n",
    "-- show that some records have been updated with an end date\n",
    "FROM profiles_scd2 |>\n",
    "WHERE `__END_AT` IS NOT NULL;\n",
    "\n",
    "-- count records with an end date\n",
    "FROM profiles_scd2 |>\n",
    "WHERE `__END_AT` IS NOT NULL |>\n",
    "AGGREGATE count(*) AS rcrd_cnt\n",
    "GROUP BY `__END_AT`;\n",
    "\n",
    "FROM deleted_records_from_profiles_bronze;\n",
    "\n",
    "FROM profiles as p\n",
    "INNER JOIN deleted_records_from_profiles_bronze as d \n",
    "ON (p.source.offset = d.offset ) |>\n",
    "AGGREGATE count(*) as kept_rcrd_cnt;\n"
   ]
  }
 ],
 "metadata": {
  "application/vnd.databricks.v1+notebook": {
   "computePreferences": null,
   "dashboards": [],
   "environmentMetadata": null,
   "inputWidgetPreferences": null,
   "language": "sql",
   "notebookMetadata": {
    "pythonIndentUnit": 2,
    "sqlQueryOptions": {
     "applyAutoLimit": true,
     "catalog": "redpanda_dev",
     "schema": "dev_matthew_giglia_profiles"
    }
   },
   "notebookName": "Type 2 Records With An End Date.dbquery.ipynb",
   "widgets": {}
  },
  "language_info": {
   "name": "sql"
  }
 },
 "nbformat": 4,
 "nbformat_minor": 0
}
